{
 "cells": [
  {
   "cell_type": "code",
   "execution_count": 43,
   "id": "bde15cf0",
   "metadata": {},
   "outputs": [],
   "source": [
    "import pybamm as pb\n",
    "import bpx\n",
    "from devtools import pprint\n",
    "import json"
   ]
  },
  {
   "cell_type": "code",
   "execution_count": 52,
   "id": "afa79b01",
   "metadata": {},
   "outputs": [
    {
     "name": "stdout",
     "output_type": "stream",
     "text": [
      "header=Header(bpx=0.4, title='Parameterisation example of an LFP|graphite 2 Ah cylindrical 18650 cell. File downloaded on 19/3/24 from https://github.com/FaradayInstitution/BPX/blob/main/examples/lfp_18650_cell_BPX.json', description=\"LFP|graphite 2 Ah cylindrical 18650 cell. Parameterisation by About:Energy Limited (aboutenergy.io), December 2022, based on cell cycling data, and electrode data gathered after cell teardown. Electrolyte properties from Nyman et al. 2008 (doi:10.1016/j.electacta.2008.04.023). Negative electrode entropic coefficient data are from O'Regan et al. 2022 (doi:10.1016/j.electacta.2022.140700). Positive electrode entropic coefficient data are from Gerver and Meyers 2011 (doi:10.1149/1.3591799). Other thermal properties are estimated.\", references=None, model='DFN') parameterisation=Parameterisation(cell=Cell(electrode_area=0.08959998, external_surface_area=0.00431, volume=1.7e-05, number_of_electrodes=1, lower_voltage_cutoff=2.0, upper_voltage_cutoff=3.65, nominal_cell_capacity=2.0, ambient_temperature=298.15, initial_temperature=298.15, reference_temperature=298.15, density=1940.0, specific_heat_capacity=999.0, thermal_conductivity=1.89), electrolyte=Electrolyte(initial_concentration=1000.0, cation_transference_number=0.259, diffusivity=Function('8.794e-11 * (x / 1000) ** 2 - 3.972e-10 * (x / 1000) + 4.862e-10'), diffusivity_activation_energy=17100.0, conductivity=Function('0.1297 * (x / 1000) ** 3 - 2.51 * (x / 1000) ** 1.5 + 3.329 * (x / 1000)'), conductivity_activation_energy=17100.0), negative_electrode=ElectrodeSingle(minimum_stoichiometry=0.0016261, maximum_stoichiometry=0.82258, maximum_concentration=31400.0, particle_radius=4.8e-06, surface_area_per_unit_volume=473004.0, diffusivity=9.6e-15, diffusivity_activation_energy=30000.0, ocp=Function('5.29210878e+01 * exp(-1.72699386e+02 * x) - 1.17963399e+03 + 1.20956356e+03 * tanh(6.72033948e+01 * (x + 2.44746396e-02)) + 4.52430314e-02 * tanh(-1.47542326e+01 * (x - 1.62746053e-01)) + 2.01855800e+01 * tanh(-2.46666302e+01 * (x - 1.12986136e+00)) + 2.01708039e-02 * tanh(-1.19900231e+01 * (x - 5.49773440e-01)) + 4.99616805e+01 * tanh(-6.11370883e+01 * (x + 4.69382558e-03))'), dudt=Function('(-0.1112 * x + 0.02914 + 0.3561 * exp(-((x - 0.08309) ** 2) / 0.004616)) / 1000'), reaction_rate_constant=6.872e-06, reaction_rate_constant_activation_energy=55000.0, thickness=4.44e-05, porosity=0.20666, transport_efficiency=0.09395, conductivity=7.46), positive_electrode=ElectrodeSingle(minimum_stoichiometry=0.0875, maximum_stoichiometry=0.95038, maximum_concentration=21200.0, particle_radius=5e-07, surface_area_per_unit_volume=4418460.0, diffusivity=6.873e-17, diffusivity_activation_energy=80000.0, ocp=Function('3.41285712e+00 - 1.49721852e-02 * x + 3.54866018e+14 * exp(-3.95729493e+02 * x) - 1.45998465e+00 * exp(-1.10108622e+02 * (1 - x))'), dudt=InterpolatedTable(x=[0.0, 0.05, 0.1, 0.15, 0.2, 0.25, 0.3, 0.35, 0.4, 0.45, 0.5, 0.55, 0.6, 0.65, 0.7, 0.75, 0.8, 0.85, 0.9, 0.95, 1.0], y=[0.0001, 4.7145e-05, 3.7666e-05, 2.0299e-05, 5.9833e-06, -4.6859e-06, -1.3966e-05, -2.3528e-05, -3.3593e-05, -4.3433e-05, -5.2311e-05, -6.0211e-05, -6.8006e-05, -7.6939e-05, -8.7641e-05, -9.913e-05, -0.00010855, -0.00011266, -0.00011238, -0.00010921, -0.00022539]), reaction_rate_constant=9.736e-07, reaction_rate_constant_activation_energy=35000.0, thickness=6.43e-05, porosity=0.20359, transport_efficiency=0.09186, conductivity=0.8), separator=Contact(thickness=2e-05, porosity=0.47, transport_efficiency=0.3222), user_defined=None) validation=None\n",
      "{'Ambient temperature [K]': 298.15,\n",
      " 'Boltzmann constant [J.K-1]': 1.380649e-23,\n",
      " 'Cation transference number': 0.259,\n",
      " 'Cell cooling surface area [m2]': 0.00431,\n",
      " 'Cell volume [m3]': 1.7e-05,\n",
      " 'Current function [A]': 2.0,\n",
      " 'Density [kg.m-3]': 1940.0,\n",
      " 'Electrode area [m2]': 0.08959998,\n",
      " 'Electrode height [m]': 0.2993325575342582,\n",
      " 'Electrode width [m]': 0.2993325575342582,\n",
      " 'Electrolyte conductivity [S.m-1]': functools.partial(<function bpx_to_param_dict.<locals>._conductivity at 0x00000168E4DF9D00>, sigma_ref=<function reconstructed_function at 0x00000168E4EE79C0>, Ea=17100.0),\n",
      " 'Electrolyte conductivity activation energy [J.mol-1]': 17100.0,\n",
      " 'Electrolyte diffusivity [m2.s-1]': functools.partial(<function bpx_to_param_dict.<locals>._diffusivity at 0x00000168E4DFB740>, D_ref=<function reconstructed_function at 0x00000168E4EE7920>, Ea=17100.0),\n",
      " 'Electrolyte diffusivity activation energy [J.mol-1]': 17100.0,\n",
      " 'Electron charge [C]': 1.602176634e-19,\n",
      " 'External surface area [m2]': 0.00431,\n",
      " 'Faraday constant [C.mol-1]': 96485.33212331001,\n",
      " 'Ideal gas constant [J.K-1.mol-1]': 8.31446261815324,\n",
      " 'Initial concentration in electrolyte [mol.m-3]': 1000.0,\n",
      " 'Initial concentration in negative electrode [mol.m-3]': 25829.012,\n",
      " 'Initial concentration in positive electrode [mol.m-3]': 1855.0000000000005,\n",
      " 'Initial temperature [K]': 298.15,\n",
      " 'Lower voltage cut-off [V]': 2.0,\n",
      " 'Maximum concentration in negative electrode [mol.m-3]': 31400.0,\n",
      " 'Maximum concentration in positive electrode [mol.m-3]': 21200.0,\n",
      " 'Negative current collector conductivity [S.m-1]': 40000000.0,\n",
      " 'Negative current collector density [kg.m-3]': 1940.0,\n",
      " 'Negative current collector specific heat capacity [J.kg-1.K-1]': 999.0,\n",
      " 'Negative current collector thermal conductivity [W.m-1.K-1]': 1.89,\n",
      " 'Negative current collector thickness [m]': 0,\n",
      " 'Negative electrode Bruggeman coefficient (electrode)': 0,\n",
      " 'Negative electrode Bruggeman coefficient (electrolyte)': 1.5,\n",
      " 'Negative electrode OCP [V]': <function reconstructed_function at 0x00000168E4EE65C0>,\n",
      " 'Negative electrode OCP entropic change [V.K-1]': <function reconstructed_function at 0x00000168E4EE7380>,\n",
      " 'Negative electrode active material volume fraction': 0.7568064,\n",
      " 'Negative electrode conductivity [S.m-1]': 7.46,\n",
      " 'Negative electrode density [kg.m-3]': 1940.0,\n",
      " 'Negative electrode diffusivity [m2.s-1]': functools.partial(<function bpx_to_param_dict.<locals>._diffusivity at 0x00000168E4DFB740>, D_ref=9.6e-15, Ea=30000.0, constant=True),\n",
      " 'Negative electrode diffusivity activation energy [J.mol-1]': 30000.0,\n",
      " 'Negative electrode exchange-current density [A.m-2]': functools.partial(<function bpx_to_param_dict.<locals>._exchange_current_density at 0x00000168E4EE7D80>, k_ref=6.677513871442459e-07, Ea=55000.0),\n",
      " 'Negative electrode maximum stoichiometry': 0.82258,\n",
      " 'Negative electrode minimum stoichiometry': 0.0016261,\n",
      " 'Negative electrode porosity': 0.20666385344187663,\n",
      " 'Negative electrode reaction rate constant [mol.m-2.s-1]': 6.872e-06,\n",
      " 'Negative electrode reaction rate constant activation energy [J.mol-1]': 55000.0,\n",
      " 'Negative electrode specific heat capacity [J.kg-1.K-1]': 999.0,\n",
      " 'Negative electrode surface area per unit volume [m-1]': 473004.0,\n",
      " 'Negative electrode thermal conductivity [W.m-1.K-1]': 1.89,\n",
      " 'Negative electrode thickness [m]': 4.44e-05,\n",
      " 'Negative electrode transport efficiency': 0.09395,\n",
      " 'Negative particle diffusivity [m2.s-1]': functools.partial(<function bpx_to_param_dict.<locals>._diffusivity at 0x00000168E4DFB740>, D_ref=9.6e-15, Ea=30000.0, constant=True),\n",
      " 'Negative particle diffusivity activation energy [J.mol-1]': 30000.0,\n",
      " 'Negative particle radius [m]': 4.8e-06,\n",
      " 'Nominal cell capacity [A.h]': 2.0,\n",
      " 'Number of cells connected in series to make a battery': 1,\n",
      " 'Number of electrode pairs connected in parallel to make a cell': 1,\n",
      " 'Number of electrodes connected in parallel to make a cell': 1,\n",
      " 'Open-circuit voltage at 0% SOC [V]': 2.0,\n",
      " 'Open-circuit voltage at 100% SOC [V]': 3.65,\n",
      " 'Porosity': 0.47,\n",
      " 'Positive current collector conductivity [S.m-1]': 40000000.0,\n",
      " 'Positive current collector density [kg.m-3]': 1940.0,\n",
      " 'Positive current collector specific heat capacity [J.kg-1.K-1]': 999.0,\n",
      " 'Positive current collector thermal conductivity [W.m-1.K-1]': 1.89,\n",
      " 'Positive current collector thickness [m]': 0,\n",
      " 'Positive electrode Bruggeman coefficient (electrode)': 0,\n",
      " 'Positive electrode Bruggeman coefficient (electrolyte)': 1.5,\n",
      " 'Positive electrode OCP [V]': <function reconstructed_function at 0x00000168E4EE7A60>,\n",
      " 'Positive electrode OCP entropic change [V.K-1]': functools.partial(<function _interpolant_func at 0x00000168E4AE9C60>, name='dudt', x=array([0.  , 0.05, 0.1 , 0.15, 0.2 , 0.25, 0.3 , 0.35, 0.4 , 0.45, 0.5 ,\n",
      "       0.55, 0.6 , 0.65, 0.7 , 0.75, 0.8 , 0.85, 0.9 , 0.95, 1.  ]), y=array([ 1.0000e-04,  4.7145e-05,  3.7666e-05,  2.0299e-05,  5.9833e-06,\n",
      "       -4.6859e-06, -1.3966e-05, -2.3528e-05, -3.3593e-05, -4.3433e-05,\n",
      "       -5.2311e-05, -6.0211e-05, -6.8006e-05, -7.6939e-05, -8.7641e-05,\n",
      "       -9.9130e-05, -1.0855e-04, -1.1266e-04, -1.1238e-04, -1.0921e-04,\n",
      "       -2.2539e-04])),\n",
      " 'Positive electrode active material volume fraction': 0.7364099999999999,\n",
      " 'Positive electrode conductivity [S.m-1]': 0.8,\n",
      " 'Positive electrode density [kg.m-3]': 1940.0,\n",
      " 'Positive electrode diffusivity [m2.s-1]': functools.partial(<function bpx_to_param_dict.<locals>._diffusivity at 0x00000168E4DFB740>, D_ref=6.873e-17, Ea=80000.0, constant=True),\n",
      " 'Positive electrode diffusivity activation energy [J.mol-1]': 80000.0,\n",
      " 'Positive electrode exchange-current density [A.m-2]': functools.partial(<function bpx_to_param_dict.<locals>._exchange_current_density at 0x00000168E4EE7D80>, k_ref=1.4012189446950594e-07, Ea=35000.0),\n",
      " 'Positive electrode maximum stoichiometry': 0.95038,\n",
      " 'Positive electrode minimum stoichiometry': 0.0875,\n",
      " 'Positive electrode porosity': 0.20358743031054446,\n",
      " 'Positive electrode reaction rate constant [mol.m-2.s-1]': 9.736e-07,\n",
      " 'Positive electrode reaction rate constant activation energy [J.mol-1]': 35000.0,\n",
      " 'Positive electrode specific heat capacity [J.kg-1.K-1]': 999.0,\n",
      " 'Positive electrode surface area per unit volume [m-1]': 4418460.0,\n",
      " 'Positive electrode thermal conductivity [W.m-1.K-1]': 1.89,\n",
      " 'Positive electrode thickness [m]': 6.43e-05,\n",
      " 'Positive electrode transport efficiency': 0.09186,\n",
      " 'Positive particle diffusivity [m2.s-1]': functools.partial(<function bpx_to_param_dict.<locals>._diffusivity at 0x00000168E4DFB740>, D_ref=6.873e-17, Ea=80000.0, constant=True),\n",
      " 'Positive particle diffusivity activation energy [J.mol-1]': 80000.0,\n",
      " 'Positive particle radius [m]': 5e-07,\n",
      " 'Reference temperature [K]': 298.15,\n",
      " 'Separator Bruggeman coefficient (electrolyte)': 1.5,\n",
      " 'Separator density [kg.m-3]': 1940.0,\n",
      " 'Separator porosity': 0.4699846682791107,\n",
      " 'Separator specific heat capacity [J.kg-1.K-1]': 999.0,\n",
      " 'Separator thermal conductivity [W.m-1.K-1]': 1.89,\n",
      " 'Separator thickness [m]': 2e-05,\n",
      " 'Separator transport efficiency': 0.3222,\n",
      " 'Specific heat capacity [J.K-1.kg-1]': 999.0,\n",
      " 'Thermal conductivity [W.m-1.K-1]': 1.89,\n",
      " 'Thermodynamic factor': 1.0,\n",
      " 'Thickness [m]': 2e-05,\n",
      " 'Total heat transfer coefficient [W.m-2.K-1]': 0,\n",
      " 'Transport efficiency': 0.3222,\n",
      " 'Upper voltage cut-off [V]': 3.65,\n",
      " 'Volume [m3]': 1.7e-05}\n"
     ]
    },
    {
     "name": "stderr",
     "output_type": "stream",
     "text": [
      "c:\\Users\\frw21\\OneDrive - Imperial College London\\Misc\\Desktop\\ESE_UROP_2025\\venv\\Lib\\site-packages\\pybamm\\parameters\\parameter_values.py:146: UserWarning: 'Open-circuit voltage at 0% SOC [V]' not found in BPX file. Using 'Lower voltage cut-off [V]'.\n",
      "  return ParameterValues._create_from_bpx(bpx, target_soc)\n",
      "c:\\Users\\frw21\\OneDrive - Imperial College London\\Misc\\Desktop\\ESE_UROP_2025\\venv\\Lib\\site-packages\\pybamm\\parameters\\parameter_values.py:146: UserWarning: 'Open-circuit voltage at 100% SOC [V]' not found in BPX file. Using 'Upper voltage cut-off [V]'.\n",
      "  return ParameterValues._create_from_bpx(bpx, target_soc)\n"
     ]
    }
   ],
   "source": [
    "filename = r'C:\\Users\\frw21\\OneDrive - Imperial College London\\Misc\\Desktop\\ESE_UROP_2025\\Project_Files\\Parameters\\example_BPX.json'\n",
    "my_params = bpx.parse_bpx_file(filename)\n",
    "my_params_bpx = pb.ParameterValues.create_from_bpx_obj(my_params)\n",
    "print(my_params)\n",
    "print(my_params_bpx)"
   ]
  },
  {
   "cell_type": "code",
   "execution_count": 14,
   "id": "6bd739a8",
   "metadata": {},
   "outputs": [
    {
     "name": "stdout",
     "output_type": "stream",
     "text": [
      "0.7568064\n"
     ]
    }
   ],
   "source": [
    "parameter_values = pb.ParameterValues.create_from_bpx(\"example_BPX.json\")\n",
    "\n",
    "print(parameter_values[\"Negative electrode active material volume fraction\"])"
   ]
  },
  {
   "cell_type": "code",
   "execution_count": 40,
   "id": "a4771b45",
   "metadata": {},
   "outputs": [],
   "source": [
    "my_params = pb.ParameterValues(\"ORegan2022\")"
   ]
  },
  {
   "cell_type": "code",
   "execution_count": null,
   "id": "31f8588a",
   "metadata": {},
   "outputs": [],
   "source": []
  },
  {
   "cell_type": "code",
   "execution_count": 42,
   "id": "7b25a74f",
   "metadata": {},
   "outputs": [],
   "source": [
    "import json\n",
    "\n",
    "# Filter out non-serializable items (e.g., functions)\n",
    "serializable_params = {k: v for k, v in my_params.items() if not callable(v)}\n",
    "\n",
    "with open(\"example_BPX copy.json\", \"w\") as f:\n",
    "    json.dump(serializable_params, f, indent=2)"
   ]
  },
  {
   "cell_type": "code",
   "execution_count": null,
   "id": "b99d9df4",
   "metadata": {},
   "outputs": [],
   "source": [
    "pprint(my_params)"
   ]
  },
  {
   "cell_type": "code",
   "execution_count": 47,
   "id": "3cd91793",
   "metadata": {},
   "outputs": [],
   "source": [
    "with open(\"example_BPX copy.json\", \"r\") as f:\n",
    "    content = f.read()\n",
    "    if not content.strip():\n",
    "        raise ValueError(\"File is empty. Please ensure 'example_BPX copy.json' contains valid JSON data.\")\n",
    "    params = json.loads(content)"
   ]
  },
  {
   "cell_type": "code",
   "execution_count": 48,
   "id": "b463af3d",
   "metadata": {},
   "outputs": [],
   "source": [
    "params[\"Maximum stoichiometry\"] = 1"
   ]
  },
  {
   "cell_type": "code",
   "execution_count": 49,
   "id": "0f03aec4",
   "metadata": {},
   "outputs": [
    {
     "ename": "TypeError",
     "evalue": "Object of type ParameterValues is not JSON serializable",
     "output_type": "error",
     "traceback": [
      "\u001b[31m---------------------------------------------------------------------------\u001b[39m",
      "\u001b[31mTypeError\u001b[39m                                 Traceback (most recent call last)",
      "\u001b[36mCell\u001b[39m\u001b[36m \u001b[39m\u001b[32mIn[49]\u001b[39m\u001b[32m, line 2\u001b[39m\n\u001b[32m      1\u001b[39m \u001b[38;5;28;01mwith\u001b[39;00m \u001b[38;5;28mopen\u001b[39m(\u001b[33m\"\u001b[39m\u001b[33mexample_BPX copy.json\u001b[39m\u001b[33m\"\u001b[39m, \u001b[33m\"\u001b[39m\u001b[33mw\u001b[39m\u001b[33m\"\u001b[39m) \u001b[38;5;28;01mas\u001b[39;00m f:\n\u001b[32m----> \u001b[39m\u001b[32m2\u001b[39m     \u001b[43mjson\u001b[49m\u001b[43m.\u001b[49m\u001b[43mdump\u001b[49m\u001b[43m(\u001b[49m\u001b[43mmy_params\u001b[49m\u001b[43m,\u001b[49m\u001b[43m \u001b[49m\u001b[43mf\u001b[49m\u001b[43m,\u001b[49m\u001b[43m \u001b[49m\u001b[43mindent\u001b[49m\u001b[43m=\u001b[49m\u001b[32;43m4\u001b[39;49m\u001b[43m)\u001b[49m\n",
      "\u001b[36mFile \u001b[39m\u001b[32mC:\\Program Files\\WindowsApps\\PythonSoftwareFoundation.Python.3.11_3.11.2544.0_x64__qbz5n2kfra8p0\\Lib\\json\\__init__.py:179\u001b[39m, in \u001b[36mdump\u001b[39m\u001b[34m(obj, fp, skipkeys, ensure_ascii, check_circular, allow_nan, cls, indent, separators, default, sort_keys, **kw)\u001b[39m\n\u001b[32m    173\u001b[39m     iterable = \u001b[38;5;28mcls\u001b[39m(skipkeys=skipkeys, ensure_ascii=ensure_ascii,\n\u001b[32m    174\u001b[39m         check_circular=check_circular, allow_nan=allow_nan, indent=indent,\n\u001b[32m    175\u001b[39m         separators=separators,\n\u001b[32m    176\u001b[39m         default=default, sort_keys=sort_keys, **kw).iterencode(obj)\n\u001b[32m    177\u001b[39m \u001b[38;5;66;03m# could accelerate with writelines in some versions of Python, at\u001b[39;00m\n\u001b[32m    178\u001b[39m \u001b[38;5;66;03m# a debuggability cost\u001b[39;00m\n\u001b[32m--> \u001b[39m\u001b[32m179\u001b[39m \u001b[43m\u001b[49m\u001b[38;5;28;43;01mfor\u001b[39;49;00m\u001b[43m \u001b[49m\u001b[43mchunk\u001b[49m\u001b[43m \u001b[49m\u001b[38;5;129;43;01min\u001b[39;49;00m\u001b[43m \u001b[49m\u001b[43miterable\u001b[49m\u001b[43m:\u001b[49m\n\u001b[32m    180\u001b[39m \u001b[43m    \u001b[49m\u001b[43mfp\u001b[49m\u001b[43m.\u001b[49m\u001b[43mwrite\u001b[49m\u001b[43m(\u001b[49m\u001b[43mchunk\u001b[49m\u001b[43m)\u001b[49m\n",
      "\u001b[36mFile \u001b[39m\u001b[32mC:\\Program Files\\WindowsApps\\PythonSoftwareFoundation.Python.3.11_3.11.2544.0_x64__qbz5n2kfra8p0\\Lib\\json\\encoder.py:439\u001b[39m, in \u001b[36m_make_iterencode.<locals>._iterencode\u001b[39m\u001b[34m(o, _current_indent_level)\u001b[39m\n\u001b[32m    437\u001b[39m         \u001b[38;5;28;01mraise\u001b[39;00m \u001b[38;5;167;01mValueError\u001b[39;00m(\u001b[33m\"\u001b[39m\u001b[33mCircular reference detected\u001b[39m\u001b[33m\"\u001b[39m)\n\u001b[32m    438\u001b[39m     markers[markerid] = o\n\u001b[32m--> \u001b[39m\u001b[32m439\u001b[39m o = \u001b[43m_default\u001b[49m\u001b[43m(\u001b[49m\u001b[43mo\u001b[49m\u001b[43m)\u001b[49m\n\u001b[32m    440\u001b[39m \u001b[38;5;28;01myield from\u001b[39;00m _iterencode(o, _current_indent_level)\n\u001b[32m    441\u001b[39m \u001b[38;5;28;01mif\u001b[39;00m markers \u001b[38;5;129;01mis\u001b[39;00m \u001b[38;5;129;01mnot\u001b[39;00m \u001b[38;5;28;01mNone\u001b[39;00m:\n",
      "\u001b[36mFile \u001b[39m\u001b[32mC:\\Program Files\\WindowsApps\\PythonSoftwareFoundation.Python.3.11_3.11.2544.0_x64__qbz5n2kfra8p0\\Lib\\json\\encoder.py:180\u001b[39m, in \u001b[36mJSONEncoder.default\u001b[39m\u001b[34m(self, o)\u001b[39m\n\u001b[32m    161\u001b[39m \u001b[38;5;28;01mdef\u001b[39;00m\u001b[38;5;250m \u001b[39m\u001b[34mdefault\u001b[39m(\u001b[38;5;28mself\u001b[39m, o):\n\u001b[32m    162\u001b[39m \u001b[38;5;250m    \u001b[39m\u001b[33;03m\"\"\"Implement this method in a subclass such that it returns\u001b[39;00m\n\u001b[32m    163\u001b[39m \u001b[33;03m    a serializable object for ``o``, or calls the base implementation\u001b[39;00m\n\u001b[32m    164\u001b[39m \u001b[33;03m    (to raise a ``TypeError``).\u001b[39;00m\n\u001b[32m   (...)\u001b[39m\u001b[32m    178\u001b[39m \n\u001b[32m    179\u001b[39m \u001b[33;03m    \"\"\"\u001b[39;00m\n\u001b[32m--> \u001b[39m\u001b[32m180\u001b[39m     \u001b[38;5;28;01mraise\u001b[39;00m \u001b[38;5;167;01mTypeError\u001b[39;00m(\u001b[33mf\u001b[39m\u001b[33m'\u001b[39m\u001b[33mObject of type \u001b[39m\u001b[38;5;132;01m{\u001b[39;00mo.\u001b[34m__class__\u001b[39m.\u001b[34m__name__\u001b[39m\u001b[38;5;132;01m}\u001b[39;00m\u001b[33m \u001b[39m\u001b[33m'\u001b[39m\n\u001b[32m    181\u001b[39m                     \u001b[33mf\u001b[39m\u001b[33m'\u001b[39m\u001b[33mis not JSON serializable\u001b[39m\u001b[33m'\u001b[39m)\n",
      "\u001b[31mTypeError\u001b[39m: Object of type ParameterValues is not JSON serializable"
     ]
    }
   ],
   "source": [
    "with open(\"example_BPX copy.json\", \"w\") as f:\n",
    "    json.dump(my_params, f, indent=4)"
   ]
  },
  {
   "cell_type": "code",
   "execution_count": 50,
   "id": "54d4251f",
   "metadata": {},
   "outputs": [
    {
     "name": "stdout",
     "output_type": "stream",
     "text": [
      "{\"dt\":1969660800.0,\"diff\":\"P4DT4H\"}\n",
      "{\"x\":\"serialized test value\"}\n"
     ]
    }
   ],
   "source": [
    "from datetime import datetime, timedelta, timezone\n",
    "from typing import Any\n",
    "\n",
    "from pydantic import BaseModel, ConfigDict, field_serializer, model_serializer\n",
    "\n",
    "\n",
    "class WithCustomEncoders(BaseModel):\n",
    "    model_config = ConfigDict(ser_json_timedelta='iso8601')\n",
    "\n",
    "    dt: datetime\n",
    "    diff: timedelta\n",
    "\n",
    "    @field_serializer('dt')\n",
    "    def serialize_dt(self, dt: datetime, _info):\n",
    "        return dt.timestamp()\n",
    "\n",
    "\n",
    "m = WithCustomEncoders(\n",
    "    dt=datetime(2032, 6, 1, tzinfo=timezone.utc), diff=timedelta(hours=100)\n",
    ")\n",
    "print(m.model_dump_json())\n",
    "#> {\"dt\":1969660800.0,\"diff\":\"P4DT4H\"}\n",
    "\n",
    "\n",
    "class Model(BaseModel):\n",
    "    x: str\n",
    "\n",
    "    @model_serializer\n",
    "    def ser_model(self) -> dict[str, Any]:\n",
    "        return {'x': f'serialized {self.x}'}\n",
    "\n",
    "\n",
    "print(Model(x='test value').model_dump_json())\n",
    "#> {\"x\":\"serialized test value\"}"
   ]
  }
 ],
 "metadata": {
  "kernelspec": {
   "display_name": "venv",
   "language": "python",
   "name": "python3"
  },
  "language_info": {
   "codemirror_mode": {
    "name": "ipython",
    "version": 3
   },
   "file_extension": ".py",
   "mimetype": "text/x-python",
   "name": "python",
   "nbconvert_exporter": "python",
   "pygments_lexer": "ipython3",
   "version": "3.11.9"
  }
 },
 "nbformat": 4,
 "nbformat_minor": 5
}
